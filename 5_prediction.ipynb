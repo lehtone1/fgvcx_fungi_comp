{
 "cells": [
  {
   "cell_type": "markdown",
   "metadata": {},
   "source": [
    "Link to competition: https://www.kaggle.com/c/fungi-challenge-fgvc-2018/overview"
   ]
  },
  {
   "cell_type": "markdown",
   "metadata": {},
   "source": [
    "# Preparations"
   ]
  },
  {
   "cell_type": "code",
   "execution_count": 81,
   "metadata": {},
   "outputs": [],
   "source": [
    "%reload_ext autoreload\n",
    "%matplotlib inline\n",
    "%autoreload 2"
   ]
  },
  {
   "cell_type": "code",
   "execution_count": 82,
   "metadata": {},
   "outputs": [],
   "source": [
    "from fastai.vision import * \n",
    "import json\n",
    "from os import listdir\n",
    "from fungi_functions import *"
   ]
  },
  {
   "cell_type": "code",
   "execution_count": 83,
   "metadata": {},
   "outputs": [],
   "source": [
    "np.random.seed(1991)"
   ]
  },
  {
   "cell_type": "markdown",
   "metadata": {},
   "source": [
    "How many training examples are processed in one iteration. If you face memory errors, decrease the batch size"
   ]
  },
  {
   "cell_type": "code",
   "execution_count": 84,
   "metadata": {},
   "outputs": [],
   "source": [
    "\n",
    "batch_size = 64"
   ]
  },
  {
   "cell_type": "code",
   "execution_count": 85,
   "metadata": {},
   "outputs": [
    {
     "data": {
      "text/plain": [
       "['resnet34_t2_128_stage2.pth',\n",
       " 'tmp.pth',\n",
       " 'resnet34_t1_128_stage1.pth',\n",
       " 'resnet34_t1_128_stage2.pth',\n",
       " '.ipynb_checkpoints',\n",
       " 'resnet34_t2_128_stage1.pth']"
      ]
     },
     "execution_count": 85,
     "metadata": {},
     "output_type": "execute_result"
    }
   ],
   "source": [
    "listdir(\"/home/jupyter/tutorials/fastai/course-v3/nbs/dl1/fungi/data/models\")"
   ]
  },
  {
   "cell_type": "code",
   "execution_count": 86,
   "metadata": {},
   "outputs": [],
   "source": [
    "model_name = \"resnet34_t1_128_stage2\""
   ]
  },
  {
   "cell_type": "code",
   "execution_count": 87,
   "metadata": {},
   "outputs": [],
   "source": [
    "model, tfms, t, image_size = load_variables(model_name)"
   ]
  },
  {
   "cell_type": "code",
   "execution_count": 88,
   "metadata": {},
   "outputs": [
    {
     "name": "stdout",
     "output_type": "stream",
     "text": [
      "<function resnet34 at 0x7f7895899950>\n",
      "None\n",
      "t1\n",
      "128\n"
     ]
    }
   ],
   "source": [
    "print(model)\n",
    "print(tfms)\n",
    "print(t)\n",
    "print(image_size)"
   ]
  },
  {
   "cell_type": "markdown",
   "metadata": {},
   "source": [
    "# Loading Data"
   ]
  },
  {
   "cell_type": "code",
   "execution_count": 89,
   "metadata": {},
   "outputs": [],
   "source": [
    "data_path_str = \"data\"\n",
    "train_path_str = \"train\"\n",
    "test_path_str = \"test\""
   ]
  },
  {
   "cell_type": "code",
   "execution_count": 90,
   "metadata": {},
   "outputs": [],
   "source": [
    "data = ImageDataBunch.from_folder(\n",
    "    path = data_path_str,\n",
    "    train = train_path_str,\n",
    "    test = test_path_str,\n",
    "    size = image_size,\n",
    "    ds_tfms = tfms,\n",
    "    bs = batch_size,\n",
    "    valid_pct = 0.2\n",
    ").normalize(imagenet_stats)"
   ]
  },
  {
   "cell_type": "markdown",
   "metadata": {},
   "source": [
    "# Prediction"
   ]
  },
  {
   "cell_type": "code",
   "execution_count": 91,
   "metadata": {},
   "outputs": [],
   "source": [
    "learner = cnn_learner(data, model)"
   ]
  },
  {
   "cell_type": "code",
   "execution_count": 92,
   "metadata": {},
   "outputs": [],
   "source": [
    "learner = learner.load(model_name)"
   ]
  },
  {
   "cell_type": "code",
   "execution_count": 93,
   "metadata": {
    "scrolled": true
   },
   "outputs": [
    {
     "data": {
      "text/html": [],
      "text/plain": [
       "<IPython.core.display.HTML object>"
      ]
     },
     "metadata": {},
     "output_type": "display_data"
    }
   ],
   "source": [
    "preds, _ = learner.get_preds(ds_type=DatasetType.Test)"
   ]
  },
  {
   "cell_type": "code",
   "execution_count": 94,
   "metadata": {},
   "outputs": [],
   "source": [
    "pred_classes = [np.array(p).argsort()[-3:][::-1] for p in preds]"
   ]
  },
  {
   "cell_type": "code",
   "execution_count": 95,
   "metadata": {},
   "outputs": [],
   "source": [
    "pred_classes = [\" \".join(p.astype(str) ) for p in pred_classes]"
   ]
  },
  {
   "cell_type": "code",
   "execution_count": 96,
   "metadata": {},
   "outputs": [],
   "source": [
    "with open(\"data/test2.json\") as json_file:\n",
    "    data = json.load(json_file)\n",
    "    files_to_ids = {i[\"file_name\"] : i[\"id\"] for i in data[\"images\"]}"
   ]
  },
  {
   "cell_type": "code",
   "execution_count": 97,
   "metadata": {},
   "outputs": [],
   "source": [
    "ids = [files_to_ids[\"test/\" + f.name] for f in learner.data.test_ds.items]"
   ]
  },
  {
   "cell_type": "code",
   "execution_count": 98,
   "metadata": {},
   "outputs": [
    {
     "data": {
      "text/plain": [
       "['955 566 119', '356 1279 753', '1236 1035 850', '361 1157 360', '8 7 303']"
      ]
     },
     "execution_count": 98,
     "metadata": {},
     "output_type": "execute_result"
    }
   ],
   "source": [
    "pred_classes[:5]"
   ]
  },
  {
   "cell_type": "code",
   "execution_count": 99,
   "metadata": {},
   "outputs": [
    {
     "data": {
      "text/plain": [
       "[123772, 42782, 8956, 52044, 114626]"
      ]
     },
     "execution_count": 99,
     "metadata": {},
     "output_type": "execute_result"
    }
   ],
   "source": [
    "ids[:5]"
   ]
  },
  {
   "cell_type": "code",
   "execution_count": 100,
   "metadata": {},
   "outputs": [],
   "source": [
    "df = pd.DataFrame({\"id\": ids, \"predicted\": pred_classes})"
   ]
  },
  {
   "cell_type": "code",
   "execution_count": 101,
   "metadata": {},
   "outputs": [
    {
     "data": {
      "text/html": [
       "<div>\n",
       "<style scoped>\n",
       "    .dataframe tbody tr th:only-of-type {\n",
       "        vertical-align: middle;\n",
       "    }\n",
       "\n",
       "    .dataframe tbody tr th {\n",
       "        vertical-align: top;\n",
       "    }\n",
       "\n",
       "    .dataframe thead th {\n",
       "        text-align: right;\n",
       "    }\n",
       "</style>\n",
       "<table border=\"1\" class=\"dataframe\">\n",
       "  <thead>\n",
       "    <tr style=\"text-align: right;\">\n",
       "      <th></th>\n",
       "      <th>id</th>\n",
       "      <th>predicted</th>\n",
       "    </tr>\n",
       "  </thead>\n",
       "  <tbody>\n",
       "    <tr>\n",
       "      <th>0</th>\n",
       "      <td>123772</td>\n",
       "      <td>955 566 119</td>\n",
       "    </tr>\n",
       "    <tr>\n",
       "      <th>1</th>\n",
       "      <td>42782</td>\n",
       "      <td>356 1279 753</td>\n",
       "    </tr>\n",
       "    <tr>\n",
       "      <th>2</th>\n",
       "      <td>8956</td>\n",
       "      <td>1236 1035 850</td>\n",
       "    </tr>\n",
       "    <tr>\n",
       "      <th>3</th>\n",
       "      <td>52044</td>\n",
       "      <td>361 1157 360</td>\n",
       "    </tr>\n",
       "    <tr>\n",
       "      <th>4</th>\n",
       "      <td>114626</td>\n",
       "      <td>8 7 303</td>\n",
       "    </tr>\n",
       "  </tbody>\n",
       "</table>\n",
       "</div>"
      ],
      "text/plain": [
       "       id      predicted\n",
       "0  123772    955 566 119\n",
       "1   42782   356 1279 753\n",
       "2    8956  1236 1035 850\n",
       "3   52044   361 1157 360\n",
       "4  114626        8 7 303"
      ]
     },
     "execution_count": 101,
     "metadata": {},
     "output_type": "execute_result"
    }
   ],
   "source": [
    "df[:5]"
   ]
  },
  {
   "cell_type": "code",
   "execution_count": 102,
   "metadata": {},
   "outputs": [],
   "source": [
    "file_path = \"data/submissions/\" + model_name + \".csv\""
   ]
  },
  {
   "cell_type": "code",
   "execution_count": 103,
   "metadata": {},
   "outputs": [],
   "source": [
    "df.to_csv(file_path, index=False)"
   ]
  },
  {
   "cell_type": "code",
   "execution_count": 104,
   "metadata": {},
   "outputs": [
    {
     "name": "stdout",
     "output_type": "stream",
     "text": [
      "Warning: Your Kaggle API key is readable by other users on this system! To fix this, you can run 'chmod 600 /home/jupyter/.kaggle/kaggle.json'\n",
      "100%|████████████████████████████████████████| 178k/178k [00:02<00:00, 75.1kB/s]\n",
      "Successfully submitted to 2018 FGCVx Fungi Classification Challenge"
     ]
    }
   ],
   "source": [
    "!kaggle competitions submit fungi-challenge-fgvc-2018 -f $file_path -m $model_name"
   ]
  },
  {
   "cell_type": "markdown",
   "metadata": {},
   "source": [
    "https://www.kaggle.com/c/fungi-challenge-fgvc-2018/submissions"
   ]
  },
  {
   "cell_type": "markdown",
   "metadata": {},
   "source": [
    "# Scores\n",
    "\n",
    "1. resnet34_t1_128_stage1\n",
    "    - train_loss: \n",
    "    - valid_loss: \n",
    "    - top_k_accuracy: \n",
    "    - test_score private: 0.73268\n",
    "    - test_score public: 0.73214\n",
    "2. \"resnet34_t2_128_stage1\n",
    "    - train_loss: 3.709124\n",
    "    - valid_loss: 3.465487\n",
    "    - top_k_accuracy: 0.468137\n",
    "    - test_score private: 0.72683\n",
    "    - test_score public: 0.73864\n",
    "3. resnet34_t1_128_stage2\n",
    "    - train_loss: 0.604924\t\t\n",
    "    - valid_loss: 3.192425\n",
    "    - top_k_accuracy: 0.553643\n",
    "    - test_score private: \n",
    "    - test_score public:\n",
    "4. resnet34_t2_128_stage2\n",
    "    - train_loss:\n",
    "    - valid_loss:\n",
    "    - top_k_accuracy:\n",
    "    - test_score private: 0.72683\n",
    "    - test_score public: 0.73864\n",
    "5. ......................\n",
    "    - train_loss: \n",
    "    - valid_loss: \n",
    "    - top_k_accuracy: \n",
    "    - test_score private: \n",
    "    - test_score public:"
   ]
  },
  {
   "cell_type": "code",
   "execution_count": null,
   "metadata": {},
   "outputs": [],
   "source": []
  },
  {
   "cell_type": "code",
   "execution_count": null,
   "metadata": {},
   "outputs": [],
   "source": []
  },
  {
   "cell_type": "code",
   "execution_count": null,
   "metadata": {},
   "outputs": [],
   "source": []
  }
 ],
 "metadata": {
  "environment": {
   "name": "pytorch-gpu.1-4.m50",
   "type": "gcloud",
   "uri": "gcr.io/deeplearning-platform-release/pytorch-gpu.1-4:m50"
  },
  "kernelspec": {
   "display_name": "Python 3",
   "language": "python",
   "name": "python3"
  },
  "language_info": {
   "codemirror_mode": {
    "name": "ipython",
    "version": 3
   },
   "file_extension": ".py",
   "mimetype": "text/x-python",
   "name": "python",
   "nbconvert_exporter": "python",
   "pygments_lexer": "ipython3",
   "version": "3.7.6"
  }
 },
 "nbformat": 4,
 "nbformat_minor": 4
}
