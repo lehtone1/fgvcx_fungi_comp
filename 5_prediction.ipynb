{
 "cells": [
  {
   "cell_type": "markdown",
   "metadata": {},
   "source": [
    "Link to competition: https://www.kaggle.com/c/fungi-challenge-fgvc-2018/overview"
   ]
  },
  {
   "cell_type": "markdown",
   "metadata": {},
   "source": [
    "# Preparations"
   ]
  },
  {
   "cell_type": "code",
   "execution_count": 25,
   "metadata": {},
   "outputs": [],
   "source": [
    "%reload_ext autoreload\n",
    "%matplotlib inline\n",
    "%autoreload 2"
   ]
  },
  {
   "cell_type": "code",
   "execution_count": 26,
   "metadata": {},
   "outputs": [],
   "source": [
    "from fastai.vision import * \n",
    "import json\n",
    "from os import listdir\n",
    "from fungi_functions import *"
   ]
  },
  {
   "cell_type": "code",
   "execution_count": 27,
   "metadata": {},
   "outputs": [],
   "source": [
    "np.random.seed(1991)"
   ]
  },
  {
   "cell_type": "markdown",
   "metadata": {},
   "source": [
    "How many training examples are processed in one iteration. If you face memory errors, decrease the batch size"
   ]
  },
  {
   "cell_type": "code",
   "execution_count": 28,
   "metadata": {},
   "outputs": [],
   "source": [
    "\n",
    "batch_size = 64"
   ]
  },
  {
   "cell_type": "code",
   "execution_count": 29,
   "metadata": {},
   "outputs": [
    {
     "data": {
      "text/plain": [
       "['resnet34_t2_128_stage2.pth',\n",
       " 'resnet34_t2_256_stage1.pth',\n",
       " 'tmp.pth',\n",
       " 'resnet34_t1_128_stage1.pth',\n",
       " 'resnet34_t1_256_stage1.pth',\n",
       " 'resnet34_t1_128_stage2.pth',\n",
       " '.ipynb_checkpoints',\n",
       " 'resnet34_t2_256_stage2.pth',\n",
       " 'resnet34_t2_128_stage1.pth',\n",
       " 'resnet34_t2_128_stage3.pth',\n",
       " 'resnet34_t1_256_stage2.pth']"
      ]
     },
     "execution_count": 29,
     "metadata": {},
     "output_type": "execute_result"
    }
   ],
   "source": [
    "listdir(\"/home/jupyter/tutorials/fastai/course-v3/nbs/dl1/fungi/data/models\")"
   ]
  },
  {
   "cell_type": "code",
   "execution_count": 30,
   "metadata": {},
   "outputs": [],
   "source": [
    "model_name = \"resnet34_t2_256_stage2\""
   ]
  },
  {
   "cell_type": "code",
   "execution_count": 31,
   "metadata": {},
   "outputs": [],
   "source": [
    "model, tfms, t, image_size = load_variables(model_name)"
   ]
  },
  {
   "cell_type": "code",
   "execution_count": 32,
   "metadata": {},
   "outputs": [
    {
     "name": "stdout",
     "output_type": "stream",
     "text": [
      "<function resnet34 at 0x7fbcdeecd950>\n",
      "([RandTransform(tfm=TfmCrop (crop_pad), kwargs={'row_pct': (0, 1), 'col_pct': (0, 1), 'padding_mode': 'reflection'}, p=1.0, resolved={}, do_run=True, is_random=True, use_on_y=True), RandTransform(tfm=TfmPixel (flip_lr), kwargs={}, p=0.5, resolved={}, do_run=True, is_random=True, use_on_y=True), RandTransform(tfm=TfmCoord (symmetric_warp), kwargs={'magnitude': (-0.2, 0.2)}, p=0.75, resolved={}, do_run=True, is_random=True, use_on_y=True), RandTransform(tfm=TfmAffine (rotate), kwargs={'degrees': (-10.0, 10.0)}, p=0.75, resolved={}, do_run=True, is_random=True, use_on_y=True), RandTransform(tfm=TfmAffine (zoom), kwargs={'scale': (1.0, 1.1), 'row_pct': (0, 1), 'col_pct': (0, 1)}, p=0.75, resolved={}, do_run=True, is_random=True, use_on_y=True), RandTransform(tfm=TfmLighting (brightness), kwargs={'change': (0.4, 0.6)}, p=0.75, resolved={}, do_run=True, is_random=True, use_on_y=True), RandTransform(tfm=TfmLighting (contrast), kwargs={'scale': (0.8, 1.25)}, p=0.75, resolved={}, do_run=True, is_random=True, use_on_y=True)], [RandTransform(tfm=TfmCrop (crop_pad), kwargs={}, p=1.0, resolved={}, do_run=True, is_random=True, use_on_y=True)])\n",
      "t2\n",
      "256\n"
     ]
    }
   ],
   "source": [
    "print(model)\n",
    "print(tfms)\n",
    "print(t)\n",
    "print(image_size)"
   ]
  },
  {
   "cell_type": "markdown",
   "metadata": {},
   "source": [
    "# Loading Data"
   ]
  },
  {
   "cell_type": "code",
   "execution_count": 33,
   "metadata": {},
   "outputs": [],
   "source": [
    "data_path_str = \"data\"\n",
    "train_path_str = \"train\"\n",
    "test_path_str = \"test\""
   ]
  },
  {
   "cell_type": "code",
   "execution_count": 34,
   "metadata": {},
   "outputs": [],
   "source": [
    "data = ImageDataBunch.from_folder(\n",
    "    path = data_path_str,\n",
    "    train = train_path_str,\n",
    "    test = test_path_str,\n",
    "    size = image_size,\n",
    "    ds_tfms = tfms,\n",
    "    bs = batch_size,\n",
    "    valid_pct = 0.2\n",
    ").normalize(imagenet_stats)"
   ]
  },
  {
   "cell_type": "markdown",
   "metadata": {},
   "source": [
    "# Prediction"
   ]
  },
  {
   "cell_type": "code",
   "execution_count": 35,
   "metadata": {},
   "outputs": [],
   "source": [
    "learner = cnn_learner(data, model)"
   ]
  },
  {
   "cell_type": "code",
   "execution_count": 36,
   "metadata": {},
   "outputs": [],
   "source": [
    "learner = learner.load(model_name)"
   ]
  },
  {
   "cell_type": "code",
   "execution_count": 37,
   "metadata": {
    "scrolled": true
   },
   "outputs": [
    {
     "data": {
      "text/html": [],
      "text/plain": [
       "<IPython.core.display.HTML object>"
      ]
     },
     "metadata": {},
     "output_type": "display_data"
    }
   ],
   "source": [
    "preds, _ = learner.get_preds(ds_type=DatasetType.Test)"
   ]
  },
  {
   "cell_type": "code",
   "execution_count": 38,
   "metadata": {},
   "outputs": [],
   "source": [
    "pred_classes = [np.array(p).argsort()[-3:][::-1] for p in preds]"
   ]
  },
  {
   "cell_type": "code",
   "execution_count": 39,
   "metadata": {},
   "outputs": [],
   "source": [
    "pred_classes = [\" \".join(p.astype(str) ) for p in pred_classes]"
   ]
  },
  {
   "cell_type": "code",
   "execution_count": 40,
   "metadata": {},
   "outputs": [],
   "source": [
    "with open(\"data/test2.json\") as json_file:\n",
    "    data = json.load(json_file)\n",
    "    files_to_ids = {i[\"file_name\"] : i[\"id\"] for i in data[\"images\"]}"
   ]
  },
  {
   "cell_type": "code",
   "execution_count": 41,
   "metadata": {},
   "outputs": [],
   "source": [
    "ids = [files_to_ids[\"test/\" + f.name] for f in learner.data.test_ds.items]"
   ]
  },
  {
   "cell_type": "code",
   "execution_count": 42,
   "metadata": {},
   "outputs": [
    {
     "data": {
      "text/plain": [
       "['566 609 580', '753 737 328', '306 852 1129', '1012 806 676', '303 1241 774']"
      ]
     },
     "execution_count": 42,
     "metadata": {},
     "output_type": "execute_result"
    }
   ],
   "source": [
    "pred_classes[:5]"
   ]
  },
  {
   "cell_type": "code",
   "execution_count": 43,
   "metadata": {},
   "outputs": [
    {
     "data": {
      "text/plain": [
       "[123772, 42782, 8956, 52044, 114626]"
      ]
     },
     "execution_count": 43,
     "metadata": {},
     "output_type": "execute_result"
    }
   ],
   "source": [
    "ids[:5]"
   ]
  },
  {
   "cell_type": "code",
   "execution_count": 44,
   "metadata": {},
   "outputs": [],
   "source": [
    "df = pd.DataFrame({\"id\": ids, \"predicted\": pred_classes})"
   ]
  },
  {
   "cell_type": "code",
   "execution_count": 45,
   "metadata": {},
   "outputs": [
    {
     "data": {
      "text/html": [
       "<div>\n",
       "<style scoped>\n",
       "    .dataframe tbody tr th:only-of-type {\n",
       "        vertical-align: middle;\n",
       "    }\n",
       "\n",
       "    .dataframe tbody tr th {\n",
       "        vertical-align: top;\n",
       "    }\n",
       "\n",
       "    .dataframe thead th {\n",
       "        text-align: right;\n",
       "    }\n",
       "</style>\n",
       "<table border=\"1\" class=\"dataframe\">\n",
       "  <thead>\n",
       "    <tr style=\"text-align: right;\">\n",
       "      <th></th>\n",
       "      <th>id</th>\n",
       "      <th>predicted</th>\n",
       "    </tr>\n",
       "  </thead>\n",
       "  <tbody>\n",
       "    <tr>\n",
       "      <th>0</th>\n",
       "      <td>123772</td>\n",
       "      <td>566 609 580</td>\n",
       "    </tr>\n",
       "    <tr>\n",
       "      <th>1</th>\n",
       "      <td>42782</td>\n",
       "      <td>753 737 328</td>\n",
       "    </tr>\n",
       "    <tr>\n",
       "      <th>2</th>\n",
       "      <td>8956</td>\n",
       "      <td>306 852 1129</td>\n",
       "    </tr>\n",
       "    <tr>\n",
       "      <th>3</th>\n",
       "      <td>52044</td>\n",
       "      <td>1012 806 676</td>\n",
       "    </tr>\n",
       "    <tr>\n",
       "      <th>4</th>\n",
       "      <td>114626</td>\n",
       "      <td>303 1241 774</td>\n",
       "    </tr>\n",
       "  </tbody>\n",
       "</table>\n",
       "</div>"
      ],
      "text/plain": [
       "       id     predicted\n",
       "0  123772   566 609 580\n",
       "1   42782   753 737 328\n",
       "2    8956  306 852 1129\n",
       "3   52044  1012 806 676\n",
       "4  114626  303 1241 774"
      ]
     },
     "execution_count": 45,
     "metadata": {},
     "output_type": "execute_result"
    }
   ],
   "source": [
    "df[:5]"
   ]
  },
  {
   "cell_type": "code",
   "execution_count": 46,
   "metadata": {},
   "outputs": [],
   "source": [
    "file_path = \"data/submissions/\" + model_name + \".csv\""
   ]
  },
  {
   "cell_type": "code",
   "execution_count": 47,
   "metadata": {},
   "outputs": [],
   "source": [
    "df.to_csv(file_path, index=False)"
   ]
  },
  {
   "cell_type": "code",
   "execution_count": 48,
   "metadata": {},
   "outputs": [
    {
     "name": "stdout",
     "output_type": "stream",
     "text": [
      "Warning: Your Kaggle API key is readable by other users on this system! To fix this, you can run 'chmod 600 /home/jupyter/.kaggle/kaggle.json'\n",
      "100%|████████████████████████████████████████| 178k/178k [00:02<00:00, 69.5kB/s]\n",
      "Successfully submitted to 2018 FGCVx Fungi Classification Challenge"
     ]
    }
   ],
   "source": [
    "!kaggle competitions submit fungi-challenge-fgvc-2018 -f $file_path -m $model_name"
   ]
  },
  {
   "cell_type": "markdown",
   "metadata": {},
   "source": [
    "https://www.kaggle.com/c/fungi-challenge-fgvc-2018/submissions"
   ]
  },
  {
   "cell_type": "markdown",
   "metadata": {},
   "source": [
    "# Scores\n",
    "\n",
    "1. resnet34_t1_128_stage1\n",
    "    - epochs:\n",
    "    - train_loss: \n",
    "    - valid_loss: \n",
    "    - top_k_accuracy: \n",
    "    - test_score private: 0.69916\n",
    "    - test_score public:0.71711\n",
    "2. \"resnet34_t2_128_stage1\n",
    "    - epochs:\n",
    "    - train_loss: 3.323673\t\n",
    "    - valid_loss: 3.293316\t\n",
    "    - top_k_accuracy: 0.495432\n",
    "    - test_score private: 0.72683\n",
    "    - test_score public: 0.73864\n",
    "3. resnet34_t1_128_stage2\n",
    "    - epochs:\n",
    "    - train_loss: 0.604924\t\t\n",
    "    - valid_loss: 3.192425\n",
    "    - top_k_accuracy: 0.553643\n",
    "    - test_score private: 0.63768\n",
    "    - test_score public: 0.64400\n",
    "4. resnet34_t2_128_stage2\n",
    "    - epochs:\n",
    "    - train_loss: 2.677354\t\n",
    "    - valid_loss: 2.366977\t\n",
    "    - top_k_accuracy: 0.661096\n",
    "    - test_score private: 0.63812\n",
    "    - test_score public: 0.64263\n",
    "5. resnet34_t1_256_stage1\n",
    "    - epochs:\n",
    "    - train_loss: 2.710251\t\n",
    "    - valid_loss: 2.638931\t\n",
    "    - top_k_accuracy: 0.615085\n",
    "    - test_score private: 0.60459\n",
    "    - test_score public: 0.59924\n",
    "6. resnet34_t1_256_stage2\n",
    "    - epochs:\n",
    "    - train_loss: 0.740181\t\t\n",
    "    - valid_loss: 2.088840\t\n",
    "    - top_k_accuracy: 0.723262\n",
    "    - test_score private: 0.49246\n",
    "    - test_score public: 0.49675\n",
    "7. resnet34_t2_256_stage1\n",
    "    - epochs: 10\t\n",
    "    - train_loss: 2.060810\t\t \t\n",
    "    - valid_loss: 1.959902\t\n",
    "    - top_k_accuracy: 0.730838\n",
    "    - test_score private: 0.50958\n",
    "    - test_score public: 0.50187\n",
    "7. resnet34_t2_256_stage2\n",
    "    - epochs: 19\t\n",
    "    - train_loss: 1.359786\t\t\n",
    "    - valid_loss: 1.426360\t\n",
    "    - top_k_accuracy: 0.823307 \n",
    "    - test_score private: 0.46288\n",
    "    - test_score public: 0.46293\n",
    "7. ......................\n",
    "    - epochs:\n",
    "    - train_loss: \t\n",
    "    - valid_loss: \n",
    "    - top_k_accuracy: \n",
    "    - test_score private: \n",
    "    - test_score public:\n",
    "7. ......................\n",
    "    - epochs:\n",
    "    - train_loss: \t\n",
    "    - valid_loss: \n",
    "    - top_k_accuracy: \n",
    "    - test_score private: \n",
    "    - test_score public:"
   ]
  },
  {
   "cell_type": "code",
   "execution_count": null,
   "metadata": {},
   "outputs": [],
   "source": []
  },
  {
   "cell_type": "code",
   "execution_count": null,
   "metadata": {},
   "outputs": [],
   "source": []
  },
  {
   "cell_type": "code",
   "execution_count": null,
   "metadata": {},
   "outputs": [],
   "source": []
  }
 ],
 "metadata": {
  "environment": {
   "name": "pytorch-gpu.1-4.m50",
   "type": "gcloud",
   "uri": "gcr.io/deeplearning-platform-release/pytorch-gpu.1-4:m50"
  },
  "kernelspec": {
   "display_name": "Python 3",
   "language": "python",
   "name": "python3"
  },
  "language_info": {
   "codemirror_mode": {
    "name": "ipython",
    "version": 3
   },
   "file_extension": ".py",
   "mimetype": "text/x-python",
   "name": "python",
   "nbconvert_exporter": "python",
   "pygments_lexer": "ipython3",
   "version": "3.7.6"
  }
 },
 "nbformat": 4,
 "nbformat_minor": 4
}
